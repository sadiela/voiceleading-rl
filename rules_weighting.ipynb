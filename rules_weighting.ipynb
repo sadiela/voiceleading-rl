{
 "cells": [
  {
   "cell_type": "markdown",
   "metadata": {},
   "source": [
    "## Determine Reward Function Weighting\n",
    "\n",
    "#### Procedure\n",
    "We will be determining the frequency that each of the voice leading rules is violated in the training data (major chorales). The idea being that the rules that are broken more frequently are \"less important\". We will penalize these violations to a lesser extent when they are made by our model. \n",
    "\n",
    "1. Load chorale data.\n",
    "2. Iterate through each training chorale, counting rule violations. "
   ]
  },
  {
   "cell_type": "code",
   "execution_count": 2,
   "metadata": {},
   "outputs": [],
   "source": [
    "### Load data ###\n",
    "import yaml\n",
    "with open('./data/chorales_in_c_smallshift.yaml', 'r') as file:\n",
    "    chorales = yaml.safe_load(file)\n",
    "maj_chorales_training_data = chorales['train']"
   ]
  },
  {
   "cell_type": "code",
   "execution_count": 22,
   "metadata": {},
   "outputs": [],
   "source": [
    "### RULE DEFINITIONS ###\n",
    "from state_space_def import * \n",
    "\n",
    "def illegal_leaps(state, next_state): \n",
    "    # returns number of instances of an illegal leap \n",
    "    bass_interval = abs(next_state[0] - state[0]) # BASS FIRST!!!\n",
    "    tenor_interval = abs(next_state[1] - state[1])\n",
    "    alto_interval = abs(next_state[2] - state[2])\n",
    "    soprano_interval = abs(next_state[3] - state[3])\n",
    "    num_leaps = 0\n",
    "\n",
    "    all_intervals = [bass_interval, tenor_interval, alto_interval, soprano_interval]\n",
    "\n",
    "    for interval in all_intervals:\n",
    "        if interval > 12 or interval==6 or interval == 11:\n",
    "            num_leaps += 1\n",
    "    return num_leaps\n",
    "\n",
    "def voice_crossing(state,next_state):\n",
    "    # returns number of instances of voice crossing\n",
    "    num_crosses = 0\n",
    "    # assumes state, next_state are LISTS!\n",
    "    # voice cross between bass and tenor\n",
    "    if state[0] > next_state[1] or state[1] < next_state[0]:\n",
    "        num_crosses += 1\n",
    "    # between tenor and alto\n",
    "    if state[1] > next_state[2] or state[2] < next_state[1]:\n",
    "        num_crosses += 1\n",
    "    # between alto and soprano:\n",
    "    if state[2] > next_state[3] or state[3] < next_state[2]:\n",
    "        num_crosses += 1\n",
    "    return num_crosses\n",
    "\n",
    "def parallel_fifths_octaves(state, next_state):\n",
    "    # two parts separated by a p5 or p8 move to \n",
    "    # new pitch classes separated by the same interval \n",
    "    num_parallels = 0\n",
    "    p5 = 7\n",
    "    p8 = 12\n",
    "    bass_tenor_intervals = [state[1]-state[0], next_state[1]-next_state[0]]\n",
    "    bass_alto_intervals = [state[2]-state[0], next_state[2]-next_state[0]]\n",
    "    bass_soprano_intervals = [state[3]-state[0], next_state[3]-next_state[0]]\n",
    "    tenor_alto_intervals = [state[2]-state[1], next_state[2]-next_state[1]]\n",
    "    tenor_soprano_intervals = [state[3]-state[1], next_state[3]-next_state[1]]\n",
    "    alto_soprano_intervals = [state[3]-state[2], next_state[3]-next_state[2]]\n",
    "    # CHECK EVERY PAIR \n",
    "    # Get intervals for each pair\n",
    "    all_intervals = [bass_tenor_intervals, bass_soprano_intervals, tenor_alto_intervals , alto_soprano_intervals, bass_alto_intervals, tenor_soprano_intervals]\n",
    "    for interval in all_intervals:\n",
    "        if interval[0] == interval[1] and interval[0] !=0: # don't care if we don't see movement or if no parallel motion\n",
    "            if interval[0]%12 == 7: # already know they're equal and positive... and abs(interval[1])%12 == 7:\n",
    "                num_parallels+=1\n",
    "            elif interval[0]%12 ==0: # and interval[1]%12 == 0:\n",
    "                num_parallels += 1\n",
    "    return num_parallels\n",
    "\n",
    "def direct_fifths_octaves(state, next_state):\n",
    "    num_d58 = 0\n",
    "    bass_interval = state[0] - next_state[0]\n",
    "    tenor_interval = state[1] - next_state[1]\n",
    "    alto_interval = state[2] - next_state[2]\n",
    "    soprano_interval = state[3] - next_state[3]\n",
    "    bass_soprano_interval_2 = next_state[3]-next_state[0]\n",
    "    bass_tenor_interval_2 = next_state[1]-next_state[0]\n",
    "    tenor_alto_interval_2 = next_state[2]-next_state[1]\n",
    "    alto_soprano_interval_2 = next_state[3]-next_state[2]\n",
    "    # BASS SOP\n",
    "    if bass_interval != 0 and soprano_interval != 0 and (bass_interval * soprano_interval) > 0 and abs(soprano_interval) > 2:\n",
    "        # they move in the same direction, leap in the soprano part\n",
    "        if bass_soprano_interval_2%12 == 0: # move into an octave\n",
    "            num_d58 += 1\n",
    "        elif bass_soprano_interval_2%12 == 7: # move into a fifth\n",
    "            num_d58 += 1\n",
    "    # BASS TENOR\n",
    "    if bass_interval != 0 and tenor_interval != 0 and (bass_interval * tenor_interval) > 0 and abs(tenor_interval) > 2:\n",
    "        # they move in the same direction, leap in the soprano part\n",
    "        if bass_tenor_interval_2%12 == 0: # move into an octave\n",
    "            num_d58 += 1\n",
    "        elif bass_tenor_interval_2%12 == 7: # move into a fifth\n",
    "            num_d58 += 1\n",
    "    # TENOR ALTO\n",
    "    if tenor_interval != 0 and alto_interval != 0 and (tenor_interval * alto_interval) > 0 and abs(alto_interval) > 2:\n",
    "        # they move in the same direction, leap in the soprano part\n",
    "        if tenor_alto_interval_2%12 == 0: # move into an octave\n",
    "            num_d58 += 1\n",
    "        elif tenor_alto_interval_2%12 == 7: # move into a fifth\n",
    "            num_d58 += 1\n",
    "    # ALTO SOP\n",
    "    if alto_interval != 0 and soprano_interval != 0 and (alto_interval * soprano_interval) > 0 and abs(soprano_interval) > 2:\n",
    "        # they move in the same direction, leap in the soprano part\n",
    "        if alto_soprano_interval_2%12 == 0: # move into an octave\n",
    "            num_d58 += 1\n",
    "        elif alto_soprano_interval_2%12 == 7: # move into a fifth\n",
    "            num_d58 += 1    \n",
    "    return num_d58\n",
    "\n",
    "def illegal_common_tones(state, next_state):\n",
    "    # return true if there are three illegal common tones or 4 common tones \n",
    "    num_common_tones = 0\n",
    "    for i in range(4):\n",
    "        if state[i] == next_state[i]:\n",
    "            num_common_tones += 1\n",
    "    if num_common_tones == 3: \n",
    "        if state[0] == next_state[0]:\n",
    "            return 1\n",
    "        else:\n",
    "            return 0 # bass arpeggiation!\n",
    "    elif num_common_tones == 4: # this is fine\n",
    "        return 0\n",
    "    return 0\n",
    "\n",
    "def leading_tone_resolution(state, next_state): \n",
    "    # IMPORTANT IN THE OUTER VOICE!\n",
    "    # find leading tone:\n",
    "    for i, note in enumerate(state): \n",
    "        if note%12 == 11: # LEADING TONE! Should resolve up by step\n",
    "            resolution_note = next_state[i]\n",
    "            res_step = resolution_note - note \n",
    "            if not (res_step == 1 or res_step == 2): \n",
    "                if i == 0 or i == 3:\n",
    "                    return 1\n",
    "                return 0\n",
    "    return 0\n",
    "\n",
    "def seventh_approach(state, next_state):\n",
    "    # a 7th must not be approached by descending leap\n",
    "    # Figure out if the chord is a 7th:\n",
    "    # chord_1 = determine_chord_from_voicing(state)\n",
    "    chord_2 = determine_chord_from_voicing(next_state)\n",
    "\n",
    "    if chord_2 > 7: # second chord is a 7th\n",
    "        # find the 7th\n",
    "        for i, note in enumerate(next_state): \n",
    "            if note%12 == notes_in_chords[chord_2][-1]: # find the 7th \n",
    "                approach_note = state[i]\n",
    "                seventh_note = next_state[i]\n",
    "                if approach_note - seventh_note > 2:\n",
    "                    # approached by descending leap\n",
    "                    return 1 \n",
    "    return 0\n",
    "\n",
    "def seventh_resolve(state,next_state): \n",
    "    # A seventh MUST resolve DOWN by step!\n",
    "    chord_1 = determine_chord_from_voicing(state)\n",
    "\n",
    "    if chord_1 > 7: # first chord is a 7th\n",
    "        for i, note in enumerate(next_state): \n",
    "            if note%12 == notes_in_chords[chord_1][-1]:\n",
    "                seventh_note = state[i]\n",
    "                resolution_note = next_state[i]\n",
    "                if seventh_note-resolution_note > 2 or seventh_note-resolution_note < 1: \n",
    "                    return 1 # did not resolve down by step\n",
    "    return 0\n",
    "\n",
    "# RULES THAT ARE NOT DEPENDENT ON PREVIOUS STATE!\n",
    "### JUST REMOVE THESE FROM THE STATE SPACE??? ### Probably makes sense to.... so ignore these for now\n",
    "def doubled_leading_tone(next_state):\n",
    "    leading_tone_count = 0 \n",
    "    for note in next_state:\n",
    "        if note%12 == 11:\n",
    "            leading_tone_count += 1\n",
    "    if leading_tone_count > 1:\n",
    "        return 1\n",
    "    return 0\n",
    "\n",
    "def dim_triad_first_inversion(next_state):  # WILL ONLY WORK FOR MAJOR\n",
    "    chord = determine_chord_from_voicing(next_state)\n",
    "    inversion = determine_inversion(next_state, chord)\n",
    "    if chord == 7: # diminished 7th \n",
    "        if inversion != 1:\n",
    "            return 1\n",
    "    return 0\n",
    "\n",
    "def check_inv_triad_complete(next_state): \n",
    "    # INVERTED TRIADS SHOULD BE COMPLETE!\n",
    "    # Return true if NOT complete\n",
    "    chord = determine_chord_from_voicing(next_state)\n",
    "    inversion = determine_inversion(next_state, chord)\n",
    "    if inversion == 1: \n",
    "        if not is_complete(next_state, chord):\n",
    "            return 1\n",
    "    return 0\n",
    "\n",
    "def second_inversion_triad_doubling(next_state): \n",
    "    # return true if INCORRECT doubling\n",
    "    chord = determine_chord_from_voicing(next_state)\n",
    "    inversion = determine_inversion(next_state, chord)\n",
    "    if inversion == 2 and chord < 8:\n",
    "        # 5th should be doubled\n",
    "        fifth = notes_in_chords[chord][2]\n",
    "        num_fifths = 0\n",
    "        for pitch in next_state:\n",
    "            if pitch%12 == fifth:\n",
    "                num_fifths += 1\n",
    "        if num_fifths >=2:\n",
    "            return 0\n",
    "        else:\n",
    "            return 1\n",
    "    return 0\n",
    "\n",
    "\n"
   ]
  },
  {
   "cell_type": "code",
   "execution_count": 23,
   "metadata": {},
   "outputs": [
    {
     "name": "stderr",
     "output_type": "stream",
     "text": [
      "100%|██████████| 229/229 [00:00<00:00, 575.47it/s]\n"
     ]
    }
   ],
   "source": [
    "from tqdm import tqdm\n",
    "ill, vc, p58, d58, ill_ct, lt_res, sev_app, sev_res = 0,0,0,0,0,0,0,0\n",
    "\n",
    "for chorale in tqdm(maj_chorales_training_data):\n",
    "    for i in range(len(chorale)-1): \n",
    "        state, next_state = chorale[i], chorale[i+1]\n",
    "        if len(next_state) < 4: \n",
    "            break\n",
    "        chord_1 = determine_chord_from_voicing(state)\n",
    "        chord_2 = determine_chord_from_voicing(next_state)\n",
    "        ill += illegal_leaps(state, next_state)\n",
    "        vc += voice_crossing(state, next_state)\n",
    "        p58 += parallel_fifths_octaves(state, next_state)\n",
    "        d58 += direct_fifths_octaves(state, next_state)\n",
    "        ill_ct += illegal_common_tones(state,next_state)\n",
    "        lt_res += leading_tone_resolution(state, next_state)\n",
    "        if chord_1 and chord_2:\n",
    "            sev_app += seventh_approach(state, next_state)\n",
    "            sev_res += seventh_resolve(state,next_state)\n"
   ]
  },
  {
   "cell_type": "code",
   "execution_count": 24,
   "metadata": {},
   "outputs": [
    {
     "name": "stdout",
     "output_type": "stream",
     "text": [
      "# of illegal leaps: 240\n",
      "# of voice crossings: 662\n",
      "# of parallel 5ths/8ves: 21478\n",
      "# of direct 5ths/8ves: 953\n",
      "# of illegal common tones: 2843\n",
      "# of illegal lt resolutions: 3106\n",
      "# of illegal 7th approaches: 14\n",
      "# of illegal 7th resolutions: 591\n"
     ]
    }
   ],
   "source": [
    "print(\"# of illegal leaps: {}\\n# of voice crossings: {}\\n# of parallel 5ths/8ves: {}\\n# of direct 5ths/8ves: {}\\n# of illegal common tones: {}\\n# of illegal lt resolutions: {}\\n# of illegal 7th approaches: {}\\n# of illegal 7th resolutions: {}\".format(ill, vc, p58, d58, ill_ct, lt_res, sev_app, sev_res))\n",
    "\n"
   ]
  },
  {
   "cell_type": "code",
   "execution_count": 38,
   "metadata": {},
   "outputs": [
    {
     "name": "stdout",
     "output_type": "stream",
     "text": [
      "illegal leaps weight: 0.1417\n",
      "voice crossing weight: 0.1397\n",
      "parallel 5ths/8ves weight: 0.0402\n",
      "direct 5ths/8ves weight: 0.1383\n",
      "illegal common tones weight: 0.1293\n",
      "illegal lt resolutions weight:0.128\n",
      "illegal 7th approaches weight: 0.1428\n",
      "illegal 7th resolutions weight: 0.14\n"
     ]
    }
   ],
   "source": [
    "rules_sum = ill + vc + p58 + d58 + ill_ct + lt_res + sev_app + sev_res\n",
    "ill_unscaled = (rules_sum - ill)/rules_sum\n",
    "vc_unscaled = (rules_sum - vc)/rules_sum\n",
    "p58_unscaled = (rules_sum - p58)/rules_sum\n",
    "d58_unscaled = (rules_sum - d58)/rules_sum\n",
    "illct_unscaled = (rules_sum - ill_ct)/rules_sum\n",
    "ltres_unscaled = (rules_sum - lt_res)/rules_sum\n",
    "sevapp_unscaled = (rules_sum - sev_app)/rules_sum\n",
    "sevres_unscaled = (rules_sum - sev_res)/rules_sum\n",
    "unscaled_sum = ill_unscaled + vc_unscaled + p58_unscaled + d58_unscaled + illct_unscaled + ltres_unscaled + sevapp_unscaled + sevres_unscaled\n",
    "\n",
    "ill_weight = round(ill_unscaled/unscaled_sum,4)\n",
    "vc_weight = round(vc_unscaled/unscaled_sum,4)\n",
    "p58_weight = round(p58_unscaled/unscaled_sum,4)\n",
    "d58_weight = round(d58_unscaled/unscaled_sum,4)\n",
    "illct_weight = round(illct_unscaled/unscaled_sum,4)\n",
    "ltres_weight = round(ltres_unscaled/unscaled_sum,4)\n",
    "sevapp_weight = round(sevapp_unscaled/unscaled_sum,4)\n",
    "sevres_weight = round(sevres_unscaled/unscaled_sum,4)\n",
    "\n",
    "print(\"illegal leaps weight: {}\\nvoice crossing weight: {}\\nparallel 5ths/8ves weight: {}\\ndirect 5ths/8ves weight: {}\\nillegal common tones weight: {}\\nillegal lt resolutions weight:{}\\nillegal 7th approaches weight: {}\\nillegal 7th resolutions weight: {}\".format(ill_weight, vc_weight, p58_weight, d58_weight\n",
    "                                                                                    , illct_weight, ltres_weight, sevapp_weight, sevres_weight))\n"
   ]
  },
  {
   "cell_type": "code",
   "execution_count": 30,
   "metadata": {},
   "outputs": [
    {
     "name": "stdout",
     "output_type": "stream",
     "text": [
      "Illegal leaps weight: 0.00803\n"
     ]
    }
   ],
   "source": [
    "print(f'Illegal leaps weight: {ill_weight:.5f}')"
   ]
  },
  {
   "cell_type": "code",
   "execution_count": 6,
   "metadata": {},
   "outputs": [
    {
     "name": "stdout",
     "output_type": "stream",
     "text": [
      "02_19\n"
     ]
    }
   ],
   "source": [
    "from datetime import datetime\n",
    "datem = datetime.today().strftime(\"%m_%d\")\n",
    "print(datem)"
   ]
  },
  {
   "cell_type": "code",
   "execution_count": 7,
   "metadata": {},
   "outputs": [],
   "source": [
    "import pickle\n",
    "import numpy as np\n",
    "Qvalues = np.zeros((10,10))\n",
    "epochs = 12\n",
    "data = {\n",
    "    \"Q\": Qvalues,\n",
    "    \"epochs\": epochs\n",
    "}\n",
    "\n",
    "with open('test.p', 'wb') as f:\n",
    "    pickle.dump(data, f)\n",
    "        #np.save(modelpath, self.Qvalues)"
   ]
  },
  {
   "cell_type": "code",
   "execution_count": 9,
   "metadata": {},
   "outputs": [
    {
     "name": "stdout",
     "output_type": "stream",
     "text": [
      "<class 'numpy.ndarray'>\n",
      "12\n"
     ]
    }
   ],
   "source": [
    "with open('test.p', 'rb') as f: \n",
    "        data = pickle.load(f)\n",
    "Qvalues = data['Q']\n",
    "eps = data['epochs']\n",
    "print(type(Qvalues))\n",
    "print(eps)"
   ]
  },
  {
   "cell_type": "code",
   "execution_count": 14,
   "metadata": {},
   "outputs": [
    {
     "name": "stdout",
     "output_type": "stream",
     "text": [
      "['./models/freemodel.npy', './models/harmmodel_fulldata.npy', './models/harmmodel2.npy', './models/voicemodel.npy', './models/freemodel2.npy', './models/harmmodel_fulldata_2_16.npy', './models/harmmodel_fulldata_2_15.npy', './models/voicemodel2.npy', './models/harmmodel.npy']\n",
      "./models/harmmodel_fulldata_2_16.npy\n"
     ]
    }
   ],
   "source": [
    "import glob, os\n",
    "list_of_files = glob.glob('./models/harmmodel_*.p]') # * means all if need specific format then *.csv\n",
    "print(list_of_files)\n",
    "latest_file = max(list_of_files, key=os.path.getctime)\n",
    "print(latest_file)"
   ]
  },
  {
   "cell_type": "code",
   "execution_count": null,
   "metadata": {},
   "outputs": [],
   "source": []
  }
 ],
 "metadata": {
  "kernelspec": {
   "display_name": "midigen2",
   "language": "python",
   "name": "python3"
  },
  "language_info": {
   "codemirror_mode": {
    "name": "ipython",
    "version": 3
   },
   "file_extension": ".py",
   "mimetype": "text/x-python",
   "name": "python",
   "nbconvert_exporter": "python",
   "pygments_lexer": "ipython3",
   "version": "3.10.13"
  }
 },
 "nbformat": 4,
 "nbformat_minor": 2
}
